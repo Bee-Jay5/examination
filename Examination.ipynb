{
 "cells": [
  {
   "cell_type": "code",
   "execution_count": 5,
   "id": "9bbfde77",
   "metadata": {},
   "outputs": [
    {
     "name": "stdout",
     "output_type": "stream",
     "text": [
      "(['Old boy', 'Simple', 'Attenuate', 'Shy Ones', 'Toxic things', 'Silent words', 'Big Daddy', 'Juvenile', 'Mothers Love', 'The foxes', 'IT today'], ['the living light', 'Nigerian Elections'], ['Happy', 'Brave'])\n"
     ]
    }
   ],
   "source": [
    "data=['the living light','Happy','Brave','Old boy','Simple','Attenuate','Shy Ones','Toxic things',\n",
    "'Silent words','Big Daddy','Juvenile','Mothers Love','The foxes','Nigerian Elections','IT today']\n",
    "def tpl(data):\n",
    "    greaterthan5lessthan15=[]\n",
    "    greaterthan15=[]\n",
    "    error=[]\n",
    "    \n",
    "    for string in data:\n",
    "        a=len(string)>5\n",
    "        b=len(string)<15\n",
    "        c=len(string)>15\n",
    "        if a and b:\n",
    "            greaterthan5lessthan15.append(string)\n",
    "        elif  c:\n",
    "            greaterthan15.append(string)\n",
    "        else:\n",
    "            error.append(string)  \n",
    "    return greaterthan5lessthan15, greaterthan15, error\n",
    "d=tpl(data)\n",
    "print(d)\n",
    "            "
   ]
  }
 ],
 "metadata": {
  "kernelspec": {
   "display_name": "Python 3 (ipykernel)",
   "language": "python",
   "name": "python3"
  },
  "language_info": {
   "codemirror_mode": {
    "name": "ipython",
    "version": 3
   },
   "file_extension": ".py",
   "mimetype": "text/x-python",
   "name": "python",
   "nbconvert_exporter": "python",
   "pygments_lexer": "ipython3",
   "version": "3.11.1"
  }
 },
 "nbformat": 4,
 "nbformat_minor": 5
}
